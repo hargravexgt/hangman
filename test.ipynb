{
 "cells": [
  {
   "cell_type": "code",
   "execution_count": 4,
   "metadata": {},
   "outputs": [],
   "source": [
    "import random\n",
    "import milestone_2\n",
    "\n",
    "word_list = milestone_2.word_list\n",
    "\n",
    "class Hangman:\n",
    "    def __init__(self, word_list, num_lives=5):\n",
    "        self.word_list = word_list\n",
    "        self.num_lives = num_lives\n",
    "        self.word = random.choice(word_list)\n",
    "        self.word_guessed = ['_']*len(self.word)\n",
    "        self.list_of_guesses = []\n",
    "        self.num_letters = len(set(list(self.word)))\n",
    "\n",
    "    def check_guess(self, guess):\n",
    "        if guess.lower().strip() in self.word:\n",
    "            print(f\"Good guess. {guess} is in the word.\")\n",
    "            for i in range(len(self.word)):\n",
    "                if guess.lower().strip() == self.word[i]:\n",
    "                    self.word_guessed[i] = guess.lower().strip()\n",
    "            self.num_letters += -1                \n",
    "        else:\n",
    "            print(f\"Sorry, {guess} is not in the word. Try again.\")\n",
    "            self.num_lives += -1\n",
    "    \n",
    "    def ask_for_input(self):\n",
    "        guess = ''\n",
    "        while self.num_letters > 0 and self.num_lives > 0:\n",
    "            print(self.word_guessed)\n",
    "            guess = input(\"Choose a letter:\")\n",
    "            if guess.isalpha()==False or len(guess)!= 1:\n",
    "                print(\"Invalid letter. Please, enter a single alphabetical character.\")\n",
    "            elif guess in self.list_of_guesses:\n",
    "                print(\"You already tried that.\")\n",
    "            else:\n",
    "                self.check_guess(guess)\n",
    "                self.list_of_guesses.append(guess)\n",
    "        if self.num_lives > 0:\n",
    "            print(f'Well done, you got it: {self.word}. It took you {len(self.list_of_guesses)} guesses.')\n",
    "        else:\n",
    "            print(f\"You ran out of lives. The word was: {self.word}\")\n",
    "        "
   ]
  },
  {
   "cell_type": "code",
   "execution_count": 5,
   "metadata": {},
   "outputs": [
    {
     "name": "stdout",
     "output_type": "stream",
     "text": [
      "['_', '_', '_', '_', '_', '_']\n",
      "Sorry, m is not in the word. Try again.\n",
      "['_', '_', '_', '_', '_', '_']\n",
      "Good guess. o is in the word.\n",
      "['o', '_', '_', '_', '_', '_']\n",
      "Good guess. r is in the word.\n",
      "['o', 'r', '_', '_', '_', '_']\n",
      "Good guess. e is in the word.\n",
      "['o', 'r', '_', '_', '_', 'e']\n",
      "Sorry, t is not in the word. Try again.\n",
      "['o', 'r', '_', '_', '_', 'e']\n",
      "Sorry, q is not in the word. Try again.\n",
      "['o', 'r', '_', '_', '_', 'e']\n",
      "Good guess. a is in the word.\n",
      "['o', 'r', 'a', '_', '_', 'e']\n",
      "Good guess. n is in the word.\n",
      "['o', 'r', 'a', 'n', '_', 'e']\n",
      "Sorry, w is not in the word. Try again.\n",
      "['o', 'r', 'a', 'n', '_', 'e']\n",
      "You already tried that.\n",
      "['o', 'r', 'a', 'n', '_', 'e']\n",
      "Sorry, i is not in the word. Try again.\n",
      "You ran out of lives. The word was: orange\n"
     ]
    }
   ],
   "source": [
    "hangman_1 = Hangman(word_list)\n",
    "\n",
    "hangman_1.ask_for_input()"
   ]
  }
 ],
 "metadata": {
  "kernelspec": {
   "display_name": "base",
   "language": "python",
   "name": "python3"
  },
  "language_info": {
   "codemirror_mode": {
    "name": "ipython",
    "version": 3
   },
   "file_extension": ".py",
   "mimetype": "text/x-python",
   "name": "python",
   "nbconvert_exporter": "python",
   "pygments_lexer": "ipython3",
   "version": "3.11.11"
  }
 },
 "nbformat": 4,
 "nbformat_minor": 2
}
